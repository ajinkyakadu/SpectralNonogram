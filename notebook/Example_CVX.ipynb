{
 "cells": [
  {
   "cell_type": "markdown",
   "id": "0470c63f-de15-4f5f-a87a-149c334d3c29",
   "metadata": {},
   "source": [
    "# Import Packages"
   ]
  },
  {
   "cell_type": "code",
   "execution_count": 1,
   "id": "5c910db7-f712-4614-a974-7f7ea7318272",
   "metadata": {},
   "outputs": [],
   "source": [
    "import numpy as np\n",
    "import cvxpy as cp"
   ]
  },
  {
   "cell_type": "markdown",
   "id": "77a9651d-d7e5-471a-8425-03cc5fd2c2d0",
   "metadata": {},
   "source": [
    "# Setting Up"
   ]
  },
  {
   "cell_type": "markdown",
   "id": "1f10c73f",
   "metadata": {},
   "source": [
    "## Functions (definitions)"
   ]
  },
  {
   "cell_type": "code",
   "execution_count": 2,
   "id": "56cdbaca-2637-42a1-841c-c137d2d16c03",
   "metadata": {},
   "outputs": [],
   "source": [
    "def initialize_nonogram(N, colors):\n",
    "    \"\"\"\n",
    "    Initializes a nonogram grid with random colors and computes the row and column sums for each color.\n",
    "\n",
    "    Parameters:\n",
    "    N (int): The size of the grid (N x N).\n",
    "    colors (dict): A dictionary of colors and their corresponding labels.\n",
    "\n",
    "    Returns:\n",
    "    tuple: A tuple containing the initialized grid and a dictionary with the row and column sums for each color.\n",
    "    \"\"\"\n",
    "    # Initialize the grid with random colors, excluding 'Vacant'\n",
    "    actual_colors = [color for color in colors if color != 'Vacant']\n",
    "    grid = np.random.choice(actual_colors, size=(N, N))\n",
    "\n",
    "    # Compute the colored sums for each row and each column\n",
    "    color_sums = {color: {'row': np.zeros(N, dtype=int), 'col': np.zeros(N, dtype=int)} for color in actual_colors}\n",
    "    \n",
    "    for color in actual_colors:\n",
    "        # Mask the grid for the current color and calculate the sums\n",
    "        mask = (grid == color)\n",
    "        color_sums[color]['row'] = np.sum(mask, axis=1)\n",
    "        color_sums[color]['col'] = np.sum(mask, axis=0)\n",
    "\n",
    "    return grid, color_sums\n",
    "\n",
    "def create_system_matrix(N):\n",
    "    \"\"\"\n",
    "    Create a matrix A for a nonogram of size N that maps from the grid to the row and column sums.\n",
    "    The top part of A corresponds to the row sums and the bottom part to the column sums.\n",
    "\n",
    "    Parameters:\n",
    "    N (int): The size of the grid (N x N).\n",
    "\n",
    "    Returns:\n",
    "    np.ndarray: The matrix A of size (2N x N^2) that maps the grid to the sums.\n",
    "    \"\"\"\n",
    "    # Create an empty matrix A of the appropriate size: there are N rows and N columns, and N^2 pixels\n",
    "    A = np.zeros((2 * N, N**2))\n",
    "\n",
    "    # Fill in the top part of A for the row sums\n",
    "    for i in range(N):\n",
    "        for j in range(N):\n",
    "            A[i, i * N + j] = 1  # Fill the row i with 1s where the pixels of row i are in the grid\n",
    "\n",
    "    # Fill in the bottom part of A for the column sums\n",
    "    for i in range(N, 2 * N):\n",
    "        for j in range(N):\n",
    "            A[i, j + (i - N) * N] = 1  # Fill the column i-N with 1s where the pixels of column i-N are in the grid\n",
    "\n",
    "    return A\n",
    "\n",
    "def convert_sums_to_matrix_Y(color_sums, N):\n",
    "    \"\"\"\n",
    "    Convert the color_sums dictionary to a matrix Y where each column represents the color sum vector y_i.\n",
    "\n",
    "    Parameters:\n",
    "    color_sums (dict): A dictionary with the row and column sums for each color.\n",
    "    N (int): The size of the grid (N x N).\n",
    "\n",
    "    Returns:\n",
    "    np.ndarray: The matrix Y containing the color sum vectors.\n",
    "    \"\"\"\n",
    "    # The number of colors is the number of keys in the color_sums dictionary\n",
    "    num_colors = len(color_sums)\n",
    "    \n",
    "    # Initialize the matrix Y with size 2N x number of colors (column sums on top, row sums on bottom)\n",
    "    Y = np.zeros((2 * N, num_colors))\n",
    "\n",
    "    for idx, (color, sums) in enumerate(color_sums.items()):\n",
    "        # Column sums go on top, row sums on the bottom\n",
    "        Y[:N, idx] = sums['col']\n",
    "        Y[N:, idx] = sums['row']\n",
    "\n",
    "    return Y\n",
    "\n",
    "def grid_to_matrix_X(grid, colors):\n",
    "    \"\"\"\n",
    "    Convert a nonogram grid to the matrix X, where each column corresponds to a color.\n",
    "\n",
    "    Parameters:\n",
    "    grid (np.ndarray): The grid representing the nonogram.\n",
    "    colors (dict): A dictionary of colors and their corresponding labels.\n",
    "\n",
    "    Returns:\n",
    "    np.ndarray: The matrix X with size num_pixels x num_colors.\n",
    "    \"\"\"\n",
    "    N = grid.shape[0]  # Size of the grid (N x N)\n",
    "    num_pixels = N * N\n",
    "    num_colors = len(colors)\n",
    "    \n",
    "    # Initialize the matrix X\n",
    "    X = np.zeros((num_pixels, num_colors))\n",
    "    \n",
    "    # Create a mapping of color to column index\n",
    "    color_to_index = {color: i for i, color in enumerate(colors)}\n",
    "    \n",
    "    # Fill in the matrix X\n",
    "    for i in range(N):\n",
    "        for j in range(N):\n",
    "            # Get the index of the current color in the matrix X\n",
    "            color_index = color_to_index[grid[j, i]]\n",
    "            # Set the corresponding entry in the matrix X to 1\n",
    "            X[i * N + j, color_index] = 1\n",
    "    \n",
    "    return X"
   ]
  },
  {
   "cell_type": "markdown",
   "id": "2c8f9b91",
   "metadata": {},
   "source": [
    "## Main block"
   ]
  },
  {
   "cell_type": "code",
   "execution_count": 3,
   "id": "d5bba5cc-9e35-49a2-a2bd-6d3a02c58dac",
   "metadata": {},
   "outputs": [
    {
     "name": "stdout",
     "output_type": "stream",
     "text": [
      "[['B' 'R' 'B' 'R' 'R']\n",
      " ['B' 'B' 'B' 'V' 'V']\n",
      " ['V' 'R' 'G' 'V' 'R']\n",
      " ['V' 'G' 'V' 'R' 'G']\n",
      " ['G' 'V' 'V' 'B' 'B']]\n",
      "{'R': {'row': array([3, 0, 2, 1, 0]), 'col': array([0, 2, 0, 2, 2])}, 'G': {'row': array([0, 0, 1, 2, 1]), 'col': array([1, 1, 1, 0, 1])}, 'B': {'row': array([2, 3, 0, 0, 2]), 'col': array([2, 1, 2, 1, 1])}, 'V': {'row': array([0, 2, 2, 2, 2]), 'col': array([2, 1, 2, 2, 1])}}\n",
      "(10, 25)\n",
      "[[0. 1. 2. 2.]\n",
      " [2. 1. 1. 1.]\n",
      " [0. 1. 2. 2.]\n",
      " [2. 0. 1. 2.]\n",
      " [2. 1. 1. 1.]\n",
      " [3. 0. 2. 0.]\n",
      " [0. 0. 3. 2.]\n",
      " [2. 1. 0. 2.]\n",
      " [1. 2. 0. 2.]\n",
      " [0. 1. 2. 2.]]\n",
      "[[0. 0. 1. 0.]\n",
      " [0. 0. 1. 0.]\n",
      " [0. 0. 0. 1.]\n",
      " [0. 0. 0. 1.]\n",
      " [0. 1. 0. 0.]\n",
      " [1. 0. 0. 0.]\n",
      " [0. 0. 1. 0.]\n",
      " [1. 0. 0. 0.]\n",
      " [0. 1. 0. 0.]\n",
      " [0. 0. 0. 1.]\n",
      " [0. 0. 1. 0.]\n",
      " [0. 0. 1. 0.]\n",
      " [0. 1. 0. 0.]\n",
      " [0. 0. 0. 1.]\n",
      " [0. 0. 0. 1.]\n",
      " [1. 0. 0. 0.]\n",
      " [0. 0. 0. 1.]\n",
      " [0. 0. 0. 1.]\n",
      " [1. 0. 0. 0.]\n",
      " [0. 0. 1. 0.]\n",
      " [1. 0. 0. 0.]\n",
      " [0. 0. 0. 1.]\n",
      " [1. 0. 0. 0.]\n",
      " [0. 1. 0. 0.]\n",
      " [0. 0. 1. 0.]]\n"
     ]
    }
   ],
   "source": [
    "N = 5  # Grid size\n",
    "colors = {'R': 'Red', 'G': 'Green', 'B': 'Blue', 'V': 'Vacant'}  # Color dictionary\n",
    "\n",
    "true_grid, true_color_sums = initialize_nonogram(N, colors)\n",
    "\n",
    "A = create_system_matrix(N)\n",
    "Y = convert_sums_to_matrix_Y(true_color_sums, N)\n",
    "\n",
    "X_true = grid_to_matrix_X(true_grid, colors)\n",
    "\n",
    "print(true_grid)\n",
    "print(true_color_sums)\n",
    "print(A.shape)\n",
    "print(Y)\n",
    "print(X_true)"
   ]
  },
  {
   "cell_type": "markdown",
   "id": "40c6d076-c000-43b5-a583-56e47417cdad",
   "metadata": {},
   "source": [
    "# Solving standard problem (using CVXPY)"
   ]
  },
  {
   "cell_type": "markdown",
   "id": "36114c7c",
   "metadata": {},
   "source": [
    "## Functions (definitions)"
   ]
  },
  {
   "cell_type": "code",
   "execution_count": 4,
   "id": "0328c25d-2993-4758-8a4d-592beb0a3e0f",
   "metadata": {},
   "outputs": [],
   "source": [
    "def solve_for_X(A, Y):\n",
    "    \"\"\"\n",
    "    Solve the convex optimization problem to find the pixel intensities X.\n",
    "\n",
    "    Parameters:\n",
    "    A (np.ndarray): The matrix A mapping the grid to the sums.\n",
    "    Y (np.ndarray): The matrix Y containing the color sum vectors.\n",
    "\n",
    "    Returns:\n",
    "    np.ndarray: The matrix X containing the pixel intensities for each color channel.\n",
    "    \"\"\"\n",
    "    num_pixels = A.shape[1]  # Number of pixels (N^2 for an N x N grid)\n",
    "    num_colors = Y.shape[1]  # Number of colors (including the 'blank' channel)\n",
    "    \n",
    "    print(num_pixels)\n",
    "    print(num_colors)\n",
    "    \n",
    "    # Create a variable for the intensities of each pixel for each color\n",
    "    X = cp.Variable((num_pixels, num_colors))\n",
    "    \n",
    "    # The objective is to minimize the sum of the squares of (A * x_i - y_i) across all colors\n",
    "    # objective = cp.Minimize(cp.norm(cp.hstack([A @ X[:, i] for i in range(num_colors)]) - Y, 'fro'))\n",
    "    objective = cp.Minimize(cp.norm(A @ X - Y, 'fro'))\n",
    "    \n",
    "    # Constraints: each x_i should be between 0 and 1, and the sum across each row (pixel) should be 1\n",
    "    constraints = [0 <= X, X <= 1]\n",
    "    constraints += [cp.sum(X, axis=1) == 1]\n",
    "\n",
    "    # Define and solve the problem\n",
    "    prob = cp.Problem(objective, constraints)\n",
    "    prob.solve(solver=cp.SCS)\n",
    "\n",
    "    return X.value\n",
    "\n",
    "def print_matrices_side_by_side(X, X_true):\n",
    "    # Stacking the two matrices horizontally\n",
    "    stacked_matrix = np.hstack((X, X_true))\n",
    "\n",
    "    # Formatting the matrix to print with 2 decimal places\n",
    "    print(\"Matrix X (left) and Matrix X_true (right):\")\n",
    "    for row in stacked_matrix:\n",
    "        print(\" \".join(f\"{val:.2f}\" if isinstance(val, float) else str(val) for val in row))"
   ]
  },
  {
   "cell_type": "markdown",
   "id": "cc7c47cf",
   "metadata": {},
   "source": [
    "## Main block"
   ]
  },
  {
   "cell_type": "code",
   "execution_count": 7,
   "id": "41f9b664-bc6e-43ae-a1e8-abf326ad9add",
   "metadata": {},
   "outputs": [
    {
     "name": "stdout",
     "output_type": "stream",
     "text": [
      "25\n",
      "4\n",
      "Matrix X (left) and Matrix X_true (right):\n",
      "0.30 0.10 0.40 0.20 0.00 0.00 1.00 0.00\n",
      "0.30 0.10 0.40 0.20 0.00 0.00 1.00 0.00\n",
      "0.30 0.10 0.40 0.20 0.00 0.00 0.00 1.00\n",
      "0.30 0.10 0.40 0.20 0.00 0.00 0.00 1.00\n",
      "0.30 0.10 0.40 0.20 0.00 1.00 0.00 0.00\n",
      "0.20 0.10 0.40 0.30 1.00 0.00 0.00 0.00\n",
      "0.20 0.10 0.40 0.30 0.00 0.00 1.00 0.00\n",
      "0.20 0.10 0.40 0.30 1.00 0.00 0.00 0.00\n",
      "0.20 0.10 0.40 0.30 0.00 1.00 0.00 0.00\n",
      "0.20 0.10 0.40 0.30 0.00 0.00 0.00 1.00\n",
      "0.20 0.20 0.20 0.40 0.00 0.00 1.00 0.00\n",
      "0.20 0.20 0.20 0.40 0.00 0.00 1.00 0.00\n",
      "0.20 0.20 0.20 0.40 0.00 1.00 0.00 0.00\n",
      "0.20 0.20 0.20 0.40 0.00 0.00 0.00 1.00\n",
      "0.20 0.20 0.20 0.40 0.00 0.00 0.00 1.00\n",
      "0.30 0.20 0.10 0.40 1.00 0.00 0.00 0.00\n",
      "0.30 0.20 0.10 0.40 0.00 0.00 0.00 1.00\n",
      "0.30 0.20 0.10 0.40 0.00 0.00 0.00 1.00\n",
      "0.30 0.20 0.10 0.40 1.00 0.00 0.00 0.00\n",
      "0.30 0.20 0.10 0.40 0.00 0.00 1.00 0.00\n",
      "0.20 0.20 0.30 0.30 1.00 0.00 0.00 0.00\n",
      "0.20 0.20 0.30 0.30 0.00 0.00 0.00 1.00\n",
      "0.20 0.20 0.30 0.30 1.00 0.00 0.00 0.00\n",
      "0.20 0.20 0.30 0.30 0.00 1.00 0.00 0.00\n",
      "0.20 0.20 0.30 0.30 0.00 0.00 1.00 0.00\n"
     ]
    }
   ],
   "source": [
    "# solve\n",
    "X = solve_for_X(A, Y)\n",
    "\n",
    "# print\n",
    "print_matrices_side_by_side(X, X_true)"
   ]
  },
  {
   "cell_type": "markdown",
   "id": "82b0f7ea",
   "metadata": {},
   "source": [
    "# Solving dual problem (using CVXPY)"
   ]
  },
  {
   "cell_type": "code",
   "execution_count": null,
   "id": "667310f1",
   "metadata": {},
   "outputs": [],
   "source": []
  }
 ],
 "metadata": {
  "kernelspec": {
   "display_name": "Python 3 (ipykernel)",
   "language": "python",
   "name": "python3"
  },
  "language_info": {
   "codemirror_mode": {
    "name": "ipython",
    "version": 3
   },
   "file_extension": ".py",
   "mimetype": "text/x-python",
   "name": "python",
   "nbconvert_exporter": "python",
   "pygments_lexer": "ipython3",
   "version": "3.11.6"
  },
  "toc": {
   "base_numbering": 1,
   "nav_menu": {},
   "number_sections": true,
   "sideBar": true,
   "skip_h1_title": false,
   "title_cell": "Table of Contents",
   "title_sidebar": "Contents",
   "toc_cell": false,
   "toc_position": {},
   "toc_section_display": true,
   "toc_window_display": false
  }
 },
 "nbformat": 4,
 "nbformat_minor": 5
}
